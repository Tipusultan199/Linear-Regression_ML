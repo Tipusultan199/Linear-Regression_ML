{
 "cells": [
  {
   "cell_type": "markdown",
   "id": "4689ed4f",
   "metadata": {},
   "source": [
    "# Read the data from the CSV file"
   ]
  },
  {
   "cell_type": "code",
   "execution_count": 3,
   "id": "925da55b",
   "metadata": {},
   "outputs": [],
   "source": [
    "import csv\n",
    "\n",
    "def read_data(filename):\n",
    "    data = []\n",
    "    with open(filename, 'r') as file:\n",
    "        reader = csv.reader(file, delimiter=';')\n",
    "        next(reader)  # Skip header row\n",
    "        for row in reader:\n",
    "            data.append([float(row[0]), float(row[1])])\n",
    "    return data\n",
    "\n",
    "data = read_data('Dhaka Rent.csv')"
   ]
  },
  {
   "cell_type": "markdown",
   "id": "5d7e1dbd",
   "metadata": {},
   "source": [
    "# Calculate the mean of the predictor (size) and response (price):"
   ]
  },
  {
   "cell_type": "code",
   "execution_count": 14,
   "id": "4687a6ed",
   "metadata": {},
   "outputs": [],
   "source": [
    "def calculate_mean(data, column):\n",
    "    total = 0.0\n",
    "    count = 0\n",
    "\n",
    "    for row in data:\n",
    "        value = row[column]\n",
    "        total += value\n",
    "        count += 1\n",
    "\n",
    "    mean = total / count\n",
    "    return mean\n",
    "\n",
    "\n",
    "mean_size = calculate_mean(data, 0)\n",
    "mean_price = calculate_mean(data, 1)\n"
   ]
  },
  {
   "cell_type": "code",
   "execution_count": 15,
   "id": "c3b1dfa7",
   "metadata": {},
   "outputs": [
    {
     "data": {
      "text/plain": [
       "2289.0"
      ]
     },
     "execution_count": 15,
     "metadata": {},
     "output_type": "execute_result"
    }
   ],
   "source": [
    "mean_size"
   ]
  },
  {
   "cell_type": "code",
   "execution_count": 16,
   "id": "1253758d",
   "metadata": {},
   "outputs": [
    {
     "data": {
      "text/plain": [
       "37269.166666666664"
      ]
     },
     "execution_count": 16,
     "metadata": {},
     "output_type": "execute_result"
    }
   ],
   "source": [
    "mean_price"
   ]
  },
  {
   "cell_type": "markdown",
   "id": "2fb32c52",
   "metadata": {},
   "source": [
    "# Calculate the covariance and variance of the predictor:"
   ]
  },
  {
   "cell_type": "code",
   "execution_count": 9,
   "id": "94c8b55f",
   "metadata": {},
   "outputs": [],
   "source": [
    "def calculate_covariance(data, mean_x, mean_y):\n",
    "    covariance = 0.0\n",
    "    for row in data:\n",
    "        x_diff = row[0] - mean_x\n",
    "        y_diff = row[1] - mean_y\n",
    "        covariance += x_diff * y_diff\n",
    "    return covariance / len(data)\n",
    "\n",
    "def calculate_variance(data, mean):\n",
    "    variance = 0.0\n",
    "    for row in data:\n",
    "        diff = row[0] - mean\n",
    "        variance += diff * diff\n",
    "    return variance / len(data)\n",
    "\n",
    "covariance = calculate_covariance(data, mean_size, mean_price)\n",
    "variance = calculate_variance(data, mean_size)"
   ]
  },
  {
   "cell_type": "code",
   "execution_count": 10,
   "id": "5ea500fe",
   "metadata": {},
   "outputs": [
    {
     "data": {
      "text/plain": [
       "6080169.166666666"
      ]
     },
     "execution_count": 10,
     "metadata": {},
     "output_type": "execute_result"
    }
   ],
   "source": [
    "covariance"
   ]
  },
  {
   "cell_type": "code",
   "execution_count": 11,
   "id": "ff1936bc",
   "metadata": {},
   "outputs": [
    {
     "data": {
      "text/plain": [
       "285552.3333333333"
      ]
     },
     "execution_count": 11,
     "metadata": {},
     "output_type": "execute_result"
    }
   ],
   "source": [
    "variance"
   ]
  },
  {
   "cell_type": "code",
   "execution_count": 12,
   "id": "043e30a7",
   "metadata": {},
   "outputs": [],
   "source": [
    "slope = covariance / variance\n",
    "intercept = mean_price - slope * mean_size\n"
   ]
  },
  {
   "cell_type": "code",
   "execution_count": 13,
   "id": "b23fcdd2",
   "metadata": {},
   "outputs": [
    {
     "name": "stdout",
     "output_type": "stream",
     "text": [
      "Equation: price = -11469.74 + 21.29 * size\n"
     ]
    }
   ],
   "source": [
    "print(f\"Equation: price = {intercept:.2f} + {slope:.2f} * size\")\n"
   ]
  },
  {
   "cell_type": "code",
   "execution_count": null,
   "id": "e14c26bb",
   "metadata": {},
   "outputs": [],
   "source": []
  }
 ],
 "metadata": {
  "kernelspec": {
   "display_name": "Python 3 (ipykernel)",
   "language": "python",
   "name": "python3"
  },
  "language_info": {
   "codemirror_mode": {
    "name": "ipython",
    "version": 3
   },
   "file_extension": ".py",
   "mimetype": "text/x-python",
   "name": "python",
   "nbconvert_exporter": "python",
   "pygments_lexer": "ipython3",
   "version": "3.9.12"
  }
 },
 "nbformat": 4,
 "nbformat_minor": 5
}
