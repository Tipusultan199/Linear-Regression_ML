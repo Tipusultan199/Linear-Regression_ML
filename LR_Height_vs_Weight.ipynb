{
 "cells": [
  {
   "cell_type": "code",
   "execution_count": 10,
   "id": "6a597f6c",
   "metadata": {},
   "outputs": [],
   "source": [
    "#import all the liberies\n",
    "import numpy as np\n",
    "import pandas as pd\n",
    "import matplotlib.pyplot as plt\n",
    "from scipy import stats"
   ]
  },
  {
   "cell_type": "code",
   "execution_count": 2,
   "id": "24193c09",
   "metadata": {},
   "outputs": [],
   "source": [
    "#read the dataset\n",
    "df = pd.read_csv(\"Height-Weight Data.csv\")"
   ]
  },
  {
   "cell_type": "code",
   "execution_count": 3,
   "id": "7e75af4b",
   "metadata": {},
   "outputs": [
    {
     "data": {
      "text/html": [
       "<div>\n",
       "<style scoped>\n",
       "    .dataframe tbody tr th:only-of-type {\n",
       "        vertical-align: middle;\n",
       "    }\n",
       "\n",
       "    .dataframe tbody tr th {\n",
       "        vertical-align: top;\n",
       "    }\n",
       "\n",
       "    .dataframe thead th {\n",
       "        text-align: right;\n",
       "    }\n",
       "</style>\n",
       "<table border=\"1\" class=\"dataframe\">\n",
       "  <thead>\n",
       "    <tr style=\"text-align: right;\">\n",
       "      <th></th>\n",
       "      <th>Height</th>\n",
       "      <th>Weight</th>\n",
       "    </tr>\n",
       "  </thead>\n",
       "  <tbody>\n",
       "    <tr>\n",
       "      <th>0</th>\n",
       "      <td>73.847017</td>\n",
       "      <td>241.893563</td>\n",
       "    </tr>\n",
       "    <tr>\n",
       "      <th>1</th>\n",
       "      <td>68.781904</td>\n",
       "      <td>162.310473</td>\n",
       "    </tr>\n",
       "    <tr>\n",
       "      <th>2</th>\n",
       "      <td>74.110105</td>\n",
       "      <td>212.740856</td>\n",
       "    </tr>\n",
       "    <tr>\n",
       "      <th>3</th>\n",
       "      <td>71.730978</td>\n",
       "      <td>220.042470</td>\n",
       "    </tr>\n",
       "    <tr>\n",
       "      <th>4</th>\n",
       "      <td>69.881796</td>\n",
       "      <td>206.349801</td>\n",
       "    </tr>\n",
       "  </tbody>\n",
       "</table>\n",
       "</div>"
      ],
      "text/plain": [
       "      Height      Weight\n",
       "0  73.847017  241.893563\n",
       "1  68.781904  162.310473\n",
       "2  74.110105  212.740856\n",
       "3  71.730978  220.042470\n",
       "4  69.881796  206.349801"
      ]
     },
     "execution_count": 3,
     "metadata": {},
     "output_type": "execute_result"
    }
   ],
   "source": [
    "#to see the top 5 rows\n",
    "df.head(5)"
   ]
  },
  {
   "cell_type": "code",
   "execution_count": 4,
   "id": "61aceeb7",
   "metadata": {},
   "outputs": [
    {
     "data": {
      "text/plain": [
       "(3501, 2)"
      ]
     },
     "execution_count": 4,
     "metadata": {},
     "output_type": "execute_result"
    }
   ],
   "source": [
    "#rows and column size\n",
    "df.shape"
   ]
  },
  {
   "cell_type": "code",
   "execution_count": 6,
   "id": "82b23546",
   "metadata": {},
   "outputs": [
    {
     "name": "stdout",
     "output_type": "stream",
     "text": [
      "<class 'pandas.core.frame.DataFrame'>\n",
      "RangeIndex: 3501 entries, 0 to 3500\n",
      "Data columns (total 2 columns):\n",
      " #   Column  Non-Null Count  Dtype  \n",
      "---  ------  --------------  -----  \n",
      " 0   Height  3501 non-null   float64\n",
      " 1   Weight  3501 non-null   float64\n",
      "dtypes: float64(2)\n",
      "memory usage: 54.8 KB\n"
     ]
    }
   ],
   "source": [
    "#detail informations\n",
    "df.info()"
   ]
  },
  {
   "cell_type": "code",
   "execution_count": 9,
   "id": "8f2e0c53",
   "metadata": {},
   "outputs": [
    {
     "data": {
      "text/plain": [
       "[]"
      ]
     },
     "execution_count": 9,
     "metadata": {},
     "output_type": "execute_result"
    },
    {
     "data": {
      "image/png": "[encoded data removed]",
      "text/plain": [
       "<Figure size 432x288 with 1 Axes>"
      ]
     },
     "metadata": {
      "needs_background": "light"
     },
     "output_type": "display_data"
    }
   ],
   "source": [
    "#plot the data\n",
    "plt.scatter(df['Height'].values, df['Weight'].values)\n",
    "plt.plot()"
   ]
  },
  {
   "cell_type": "code",
   "execution_count": 13,
   "id": "0d811f2c",
   "metadata": {},
   "outputs": [],
   "source": [
    "# dependent and independent columns\n",
    "x = df.iloc[:,:-1].values\n",
    "y =df.iloc[:, -1].values"
   ]
  },
  {
   "cell_type": "code",
   "execution_count": 14,
   "id": "64a1dca4",
   "metadata": {},
   "outputs": [
    {
     "data": {
      "text/plain": [
       "array([[73.84701702],\n",
       "       [68.78190405],\n",
       "       [74.11010539],\n",
       "       ...,\n",
       "       [73.91254915],\n",
       "       [67.39602078],\n",
       "       [72.73897   ]])"
      ]
     },
     "execution_count": 14,
     "metadata": {},
     "output_type": "execute_result"
    }
   ],
   "source": [
    "x\n"
   ]
  },
  {
   "cell_type": "code",
   "execution_count": 15,
   "id": "085a088a",
   "metadata": {},
   "outputs": [
    {
     "data": {
      "text/plain": [
       "array([241.8935632, 162.3104725, 212.7408556, ..., 202.4299596,\n",
       "       144.2776711, 187.2229089])"
      ]
     },
     "execution_count": 15,
     "metadata": {},
     "output_type": "execute_result"
    }
   ],
   "source": [
    "y"
   ]
  },
  {
   "cell_type": "code",
   "execution_count": 16,
   "id": "6f06f93c",
   "metadata": {},
   "outputs": [],
   "source": [
    "#import train_test_split liberies\n",
    "from sklearn.model_selection import train_test_split\n",
    "x_train, x_test, y_train, y_test = train_test_split(x, y, test_size=0.25, random_state= 10)"
   ]
  },
  {
   "cell_type": "code",
   "execution_count": 17,
   "id": "7bf4e480",
   "metadata": {},
   "outputs": [],
   "source": [
    "#import LinearRegression\n",
    "from sklearn.linear_model import LinearRegression\n",
    "regressor = LinearRegression()\n",
    "lm=regressor.fit(x_train, y_train)"
   ]
  },
  {
   "cell_type": "code",
   "execution_count": 18,
   "id": "da4770d7",
   "metadata": {},
   "outputs": [],
   "source": [
    "y_predict = lm.predict(x_test)"
   ]
  },
  {
   "cell_type": "code",
   "execution_count": 19,
   "id": "f75b7c28",
   "metadata": {},
   "outputs": [
    {
     "data": {
      "text/plain": [
       "array([174.63880073, 197.05498194, 180.9454983 , 167.10448142,\n",
       "       191.02934235, 195.75992148, 175.22434622, 183.42501111,\n",
       "       183.73727318, 195.34439201, 179.87661225, 213.59560162,\n",
       "       205.42468839, 170.94110973, 205.49581688, 188.32259793,\n",
       "       197.01053756, 186.6330212 , 195.63049356, 169.19727134,\n",
       "       201.01328669, 197.63171452, 183.92364397, 178.69625236,\n",
       "       173.47626481, 213.78233325, 181.20967196, 186.96507526,\n",
       "       187.89826271, 189.10619395, 177.10071948, 190.90852687,\n",
       "       167.51315424, 195.867879  , 170.70235348, 185.05662866,\n",
       "       168.71186916, 170.81209937, 176.49741198, 160.17284041,\n",
       "       223.54390989, 195.52479069, 210.53526151, 173.37528854,\n",
       "       175.56142427, 197.8643749 , 168.74435994, 194.81445231,\n",
       "       192.24679194, 162.84010158, 169.74635664, 186.48398332,\n",
       "       173.00367228, 205.98734563, 175.05250517, 188.10355056,\n",
       "       203.68987987, 196.31931146, 164.20802009, 182.09618081,\n",
       "       206.11435245, 190.80443768, 174.72751719, 173.80474601,\n",
       "       179.94796236, 183.27701062, 186.57855237, 161.42468265,\n",
       "       209.15693312, 189.50875143, 132.37672748, 204.71570131,\n",
       "       195.04055126, 198.7265424 , 165.18863356, 164.89906607,\n",
       "       203.66132118, 178.74538233, 198.22730857, 215.06540698,\n",
       "       190.59302095, 169.81566075, 134.34962903, 216.25329548,\n",
       "       226.46689772, 195.84476597, 162.65910534, 210.73347999,\n",
       "       169.22826378, 156.47052221, 206.69927053, 186.06124335,\n",
       "       177.79156485, 212.94639475, 170.17769346, 197.86984581,\n",
       "       170.37936952, 165.19139532, 175.6876755 , 184.62114756,\n",
       "       169.96065752, 166.73033595, 198.88695613, 183.41255518,\n",
       "       205.47517097, 167.40636001, 161.52636048, 219.43611419,\n",
       "       219.41763009, 201.61556755, 177.90721838, 210.58491316,\n",
       "       178.91486456, 181.05962304, 198.28805554, 194.85697596,\n",
       "       190.07545276, 132.6347322 , 190.30447782, 179.18919192,\n",
       "       204.05113729, 151.71986417, 197.74347786, 193.5408346 ,\n",
       "       157.03868558, 202.96298941, 181.77711951, 221.01667835,\n",
       "       160.72348602, 162.86531302, 184.19053044, 152.50418115,\n",
       "       180.1276984 , 138.51453304, 181.86350896, 154.66132541,\n",
       "       189.95211098, 182.67094203, 204.91185857, 185.1727281 ,\n",
       "       166.85438848, 173.80911876, 191.09526746, 176.79304675,\n",
       "       217.77234502, 191.82054447, 182.16304687, 203.75102159,\n",
       "       181.88941569, 218.64956184, 159.77190516, 198.19650992,\n",
       "       183.46830342, 210.15190295, 182.03922647, 190.9526485 ,\n",
       "       206.56589434, 184.65382987, 178.11308647, 202.55781149,\n",
       "       198.62314276, 207.3968356 , 178.74699649, 166.64412781,\n",
       "       210.99050273, 204.3957474 , 160.25427299, 198.11354622,\n",
       "       182.82623291, 187.09868166, 198.60855148, 165.54034953,\n",
       "       182.70748783, 172.77721464, 168.73754233, 189.10371238,\n",
       "       168.11489276, 171.88713867, 182.6124232 , 174.14425423,\n",
       "       169.10258056, 202.28573585, 193.53241363, 180.19158689,\n",
       "       189.89728048, 231.95308015, 202.94136373, 203.51209727,\n",
       "       204.11595743, 197.69062063, 185.82276256, 196.19351343,\n",
       "       197.78170607, 181.36450893, 167.80738577, 206.14508274,\n",
       "       168.74156923, 169.27324298, 180.87424306, 166.14210375,\n",
       "       167.80210656, 166.48113806, 201.48210043, 162.36223981,\n",
       "       202.44743926, 161.52834551, 172.35596698, 190.81445496,\n",
       "       190.0857464 , 212.76791639, 172.2820824 , 209.64937298,\n",
       "       211.5815411 , 200.91353055, 206.4247591 , 182.62061616,\n",
       "       186.1854594 , 191.65157299, 192.83768816, 204.20944032,\n",
       "       191.51487881, 178.36720709, 192.72532422, 196.38682762,\n",
       "       223.17307633, 213.38464698, 213.58911852, 211.08400818,\n",
       "       187.17724275, 172.483763  , 156.69050559, 186.65684451,\n",
       "       192.59255538, 173.53665332, 184.81030356, 210.86244157,\n",
       "       197.5611692 , 175.11600869, 179.00602337, 173.86466288,\n",
       "       156.58140889, 198.11932956, 204.94576859, 183.28415975,\n",
       "       184.81404103, 211.08655686, 206.72541403, 196.47200871,\n",
       "       172.84647183, 194.88531584, 198.15842738, 169.89268195,\n",
       "       206.59398336, 148.82268439, 177.28009229, 177.4728946 ,\n",
       "       176.74223557, 169.65005563, 178.61996442, 207.19509238,\n",
       "       188.50859648, 197.9626309 , 175.56622443, 176.43618435,\n",
       "       189.92700713, 184.97263194, 179.1742537 , 189.77862335,\n",
       "       205.76832047, 210.27901693, 203.44974778, 180.02268538,\n",
       "       159.36898601, 193.58393509, 192.79922282, 190.25357906,\n",
       "       165.30421843, 207.14081986, 192.90659156, 178.59962693,\n",
       "       191.82384928, 182.95999704, 163.78125704, 156.55171025,\n",
       "       190.45761585, 159.21825338, 176.34568047, 195.29632073,\n",
       "       202.84674316, 206.92755266, 177.50168386, 212.72304681,\n",
       "       174.82001589, 188.4277657 , 160.12983933, 172.59771305,\n",
       "       190.9496046 , 175.68113658, 160.59537078, 201.5605983 ,\n",
       "       208.5384215 , 200.38575642, 188.61199521, 181.66401872,\n",
       "       170.65306721, 180.30142526, 215.12541436, 188.17284184,\n",
       "       162.39308611, 195.06549667, 139.44054305, 181.52249154,\n",
       "       187.61794855, 199.29106657, 161.24615521, 197.34568401,\n",
       "       193.07059995, 206.31795079, 195.22510788, 192.27951891,\n",
       "       183.18133541, 180.95012019, 166.92855998, 217.64626478,\n",
       "       202.30493583, 177.49308683, 176.09836343, 187.9353567 ,\n",
       "       184.51232454, 189.93208932, 181.49629233, 176.27039207,\n",
       "       187.75167513, 187.55040248, 167.12776688, 183.2879774 ,\n",
       "       138.33251811, 197.00981021, 191.0727601 , 197.3740184 ,\n",
       "       178.26265826, 175.68158769, 188.14468894, 215.90266328,\n",
       "       183.38646481, 167.9856184 , 191.80709307, 186.27912993,\n",
       "       188.04352873, 191.32273693, 165.88611661, 175.68977665,\n",
       "       199.25728945, 194.41644562, 167.59804129, 183.53636102,\n",
       "       192.09260208, 207.64509056, 172.4816351 , 162.80765175,\n",
       "       162.13033508, 191.97229861, 189.54709068, 220.64906153,\n",
       "       174.39510664, 176.88205707, 182.89100749, 171.40838913,\n",
       "       187.56259112, 190.56727631, 204.04157542, 155.79725102,\n",
       "       153.81562498, 173.94461819, 174.21381034, 206.16204079,\n",
       "       223.84501563, 214.89027312, 211.56737704, 194.10227069,\n",
       "       186.1946944 , 210.23292197, 192.04064797, 184.5282787 ,\n",
       "       170.39747618, 188.83241417, 164.10846897, 183.6224282 ,\n",
       "       205.42157243, 160.43502439, 186.59727164, 201.13844961,\n",
       "       171.79695968, 202.13522268, 167.55914651, 195.00307906,\n",
       "       194.52034884, 161.52626651, 188.42221807, 190.5009164 ,\n",
       "       184.02266685, 188.73721276, 187.82001196, 193.01178637,\n",
       "       199.79391273, 213.63421485, 204.26605812, 167.84274398,\n",
       "       182.2691242 , 193.13244018, 183.79346638, 205.89410352,\n",
       "       187.9815328 , 189.82585742, 166.57896505, 192.07835677,\n",
       "       171.7260595 , 189.92576001, 206.05417647, 194.66068574,\n",
       "       163.99163705, 186.67673871, 167.45937509, 184.96425748,\n",
       "       212.77567096, 211.07019857, 200.20421391, 213.99871218,\n",
       "       198.59799467, 165.57310402, 176.45571652, 153.28196805,\n",
       "       205.17811619, 169.55843825, 205.98307305, 167.21500995,\n",
       "       181.28831807, 190.94447619, 179.7906114 , 191.26567763,\n",
       "       167.29866548, 174.74246872, 191.82185977, 207.60545757,\n",
       "       198.92150126, 160.4414405 , 185.31619482, 189.7706025 ,\n",
       "       143.2774759 , 204.58268895, 182.44121469, 211.21040568,\n",
       "       150.6904993 , 193.08167228, 150.9837633 , 194.7686112 ,\n",
       "       176.13956516, 199.50450064, 195.62041193, 191.51253754,\n",
       "       182.01797094, 176.24028883, 187.77039272, 194.39795549,\n",
       "       203.44992558, 173.0665096 , 175.36157283, 189.80648627,\n",
       "       190.35804628, 185.90674656, 180.46110639, 188.34293189,\n",
       "       169.41016367, 172.64633436, 157.51751727, 201.08504115,\n",
       "       198.27485047, 203.38938989, 190.71469906, 177.61723393,\n",
       "       163.949818  , 190.09409053, 172.7529259 , 205.41651376,\n",
       "       138.32955486, 168.65034296, 185.81864939, 208.14139428,\n",
       "       157.17075107, 185.82328937, 196.58488675, 191.4717228 ,\n",
       "       179.08198402, 185.52335474, 164.45496352, 195.93568274,\n",
       "       170.7970282 , 179.86696501, 195.20504479, 191.26036935,\n",
       "       160.03289074, 201.53414965, 200.43206279, 175.5163409 ,\n",
       "       181.73352588, 201.87865672, 188.67528071, 212.81603925,\n",
       "       197.38464476, 160.68492008, 200.91639684, 166.56990921,\n",
       "       191.11908509, 182.68154755, 174.13880522, 168.66922933,\n",
       "       187.45385103, 167.57565585, 181.9766682 , 205.37500618,\n",
       "       179.77475395, 187.25115903, 174.03490893, 179.20602042,\n",
       "       189.91299089, 176.15931727, 197.60206626, 198.12284218,\n",
       "       156.49640626, 184.10938992, 147.86106081, 201.65398656,\n",
       "       184.24723827, 196.43825224, 171.54824454, 178.83183925,\n",
       "       188.74646287, 199.45887852, 174.21567997, 194.16883311,\n",
       "       207.61723391, 169.7722599 , 172.9109491 , 178.13242007,\n",
       "       206.54728702, 175.88955717, 174.62227074, 186.42751239,\n",
       "       204.16459892, 187.41648128, 199.37583864, 194.49874555,\n",
       "       161.8584909 , 167.48943344, 173.43741146, 163.0628042 ,\n",
       "       196.26580724, 202.57728151, 209.22742692, 201.79742737,\n",
       "       209.50831302, 182.65749672, 207.89600943, 205.17341376,\n",
       "       219.696588  , 174.64753716, 158.43986546, 165.70825664,\n",
       "       175.93101836, 206.74053279, 175.36076404, 174.7664371 ,\n",
       "       174.23345278, 163.75670799, 188.30221274, 189.95012535,\n",
       "       165.60789578, 207.62905765, 201.96703545, 176.66336505,\n",
       "       157.92425633, 175.55754125, 185.90225554, 196.72826183,\n",
       "       185.10963574, 199.04581934, 211.44079434, 170.82339493,\n",
       "       190.51381364, 199.53707435, 179.5373466 , 165.83292236,\n",
       "       195.12487479, 188.70862189, 183.22047127, 192.45682687,\n",
       "       235.19642105, 186.91953696, 185.72677804, 188.52529357,\n",
       "       160.22268395, 173.6789783 , 183.06804334, 148.38471855,\n",
       "       218.40948433, 175.25980145, 187.44478236, 208.78122238,\n",
       "       163.2954115 , 231.08939472, 204.68325822, 170.55993083,\n",
       "       183.96808047, 187.19055875, 194.19658666, 207.66216199,\n",
       "       158.16046898, 168.65350776, 149.39383954, 190.5294644 ,\n",
       "       179.8503014 , 183.16846115, 208.40928284, 214.76118575,\n",
       "       170.07844056, 193.46695767, 178.43013856, 182.65430732,\n",
       "       221.61073961, 199.23131305, 203.28342881, 147.18153643,\n",
       "       183.9131655 , 178.16468291, 210.70464249, 196.5739811 ,\n",
       "       161.20035548, 163.05909306, 156.28514946, 200.94625053,\n",
       "       177.04930471, 182.14158227, 187.91745595, 155.86802864,\n",
       "       217.16825113, 188.6947838 , 143.21479148, 203.62869648,\n",
       "       220.47821642, 199.92886075, 208.68755143, 197.42745689,\n",
       "       190.30660333, 182.78833503, 197.20312929, 148.91808735,\n",
       "       186.45179171, 189.01821332, 186.53581619, 187.85253367,\n",
       "       202.0814424 , 172.92194866, 180.25134782, 201.94170723,\n",
       "       144.02882633, 198.17334888, 197.0686808 , 197.93845219,\n",
       "       191.81105084, 182.33108909, 186.57196838, 171.22941883,\n",
       "       178.47726183, 172.09950013, 177.81245876, 185.69121779,\n",
       "       188.49713614, 205.60259171, 189.31751642, 198.50912221,\n",
       "       179.91838228, 180.69070919, 182.70523993, 198.75855688,\n",
       "       163.18884796, 159.90127576, 186.96855804, 202.11843603,\n",
       "       170.70225664, 175.19274392, 194.53158851, 190.9427329 ,\n",
       "       188.41427215, 182.89786283, 217.6179425 , 192.29157603,\n",
       "       213.33122754, 209.56507655, 170.88068092, 193.02553323,\n",
       "       201.56099681, 186.57072878, 194.99787824, 211.47769991,\n",
       "       192.34433224, 181.75645432, 199.4136967 , 203.68508174,\n",
       "       212.01641807, 168.95308286, 178.89629867, 175.14646609,\n",
       "       177.24028521, 196.06906896, 212.89001379, 160.82688966,\n",
       "       169.97578153, 192.91858103, 214.88100779, 170.16216808,\n",
       "       212.02394781, 196.10570742, 178.66238055, 195.72355884,\n",
       "       191.66220926, 187.44906812, 167.30287805, 159.52168009,\n",
       "       180.52528384, 155.73232288, 199.90856786, 179.2471637 ,\n",
       "       191.80641892, 207.17363811, 186.88696379, 176.04680383,\n",
       "       189.22603008, 185.11636905, 184.94432656, 194.12359995,\n",
       "       194.33665831, 188.60084479, 199.03285397, 218.71781562,\n",
       "       195.62421441, 220.49084029, 228.96277837, 165.51798283,\n",
       "       232.50406349, 171.38978348, 163.14718038, 213.52151263,\n",
       "       190.16297816, 189.39570526, 175.97142408, 207.75391556,\n",
       "       185.73105992, 179.30844649, 246.16929982, 172.39449847,\n",
       "       182.86397801, 179.91280809, 184.85272548, 176.80342565,\n",
       "       204.14174839, 178.63909957, 199.16598431, 162.92417645,\n",
       "       208.6610604 , 181.28245223, 179.21374085, 166.32490639,\n",
       "       174.97323631, 187.19519126, 187.64077556, 173.99014473,\n",
       "       185.63951574, 166.17560416, 190.4612508 , 164.68602442,\n",
       "       143.13507671, 196.61755133, 162.48108095, 188.22250925,\n",
       "       191.98018548, 192.09607035, 198.42681601, 221.35793679,\n",
       "       193.12974887, 194.7132752 , 188.92255507, 198.40652592,\n",
       "       163.88091562, 220.42355381, 186.02888343, 188.60909793,\n",
       "       215.22278702, 179.79151869, 180.83535467, 174.52419324,\n",
       "       155.34857959, 175.11701037, 185.45519135, 186.90571505,\n",
       "       194.68588506, 204.12645358, 181.3310373 , 169.28142949,\n",
       "       185.06447231, 178.43012435, 183.62908056, 184.80678109,\n",
       "       160.95969628, 165.66212842, 190.64467912, 168.48639946,\n",
       "       178.41468105, 213.75047895, 185.18448211, 178.23112963,\n",
       "       188.62443072, 187.57827359, 177.91272374, 164.72989787,\n",
       "       188.54332316, 191.06949732, 146.4427898 , 192.87377958,\n",
       "       217.78327562, 203.55330694, 146.3156637 , 204.97760809,\n",
       "       186.11410231, 181.09792157, 204.51659847, 204.27692567,\n",
       "       180.52015329, 170.51405163, 222.02773578, 197.94860081,\n",
       "       194.86993099, 197.03466911, 184.60765831, 176.72877247,\n",
       "       165.44935179, 216.11382473, 165.8422474 , 186.73875136,\n",
       "       198.7289928 , 197.59542555, 187.83052405, 202.90167014,\n",
       "       180.88878032, 171.87158152, 173.11280289, 165.81971741,\n",
       "       181.09489982, 150.34722078, 171.33106089, 189.46720564,\n",
       "       155.87735911, 209.16660198, 174.52163937, 199.03690117,\n",
       "       181.50721105, 172.46413984, 183.50794734, 190.25973123,\n",
       "       187.7146129 , 203.73265188, 204.19126494, 162.77927938,\n",
       "       169.66260523, 180.752133  , 197.72663622, 160.6302583 ])"
      ]
     },
     "execution_count": 19,
     "metadata": {},
     "output_type": "execute_result"
    }
   ],
   "source": [
    "y_predict"
   ]
  },
  {
   "cell_type": "code",
   "execution_count": 20,
   "id": "761a4c9f",
   "metadata": {},
   "outputs": [
    {
     "data": {
      "text/plain": [
       "array([183.3812983, 204.4395403, 185.5337581, 179.8556896, 189.8283126,\n",
       "       198.4602486, 168.2021671, 182.3314872, 173.2997216, 193.359947 ,\n",
       "       178.3272355, 206.1003672, 186.1888419, 170.2174512, 215.8686135,\n",
       "       191.4150254, 199.3230943, 180.7027514, 196.5843459, 170.2623061,\n",
       "       213.3377733, 201.9315351, 189.1265817, 187.4238964, 166.1711851,\n",
       "       199.469319 , 180.0656094, 190.9351825, 197.4120914, 184.4360029,\n",
       "       175.1243663, 199.8912715, 163.5857985, 213.0598511, 173.3559279,\n",
       "       196.2938059, 166.9610205, 179.4688864, 189.2157901, 161.6361003,\n",
       "       227.5814318, 183.7598452, 209.5878005, 176.5658186, 178.1527814,\n",
       "       197.216552 , 168.875994 , 199.9852019, 189.8386177, 163.0041411,\n",
       "       165.9333275, 211.1248252, 167.7397753, 207.5858726, 164.1757008,\n",
       "       202.2987602, 211.8517004, 193.5198549, 168.6177462, 186.289793 ,\n",
       "       213.8966895, 182.4816869, 188.4596891, 186.8809599, 167.7261923,\n",
       "       182.9040117, 191.8136736, 165.6044904, 218.2163966, 200.2424787,\n",
       "       141.4595789, 202.3346955, 189.9065838, 191.9802531, 166.096744 ,\n",
       "       156.8657432, 211.0412112, 196.9332677, 183.1967135, 222.3975605,\n",
       "       190.9334005, 182.9464191, 126.4556128, 200.5841857, 249.565628 ,\n",
       "       185.9639951, 157.6114698, 216.0400614, 192.765581 , 172.8834702,\n",
       "       199.4468992, 186.7810035, 195.8603245, 218.6921   , 159.0089916,\n",
       "       201.8839987, 179.7597417, 167.7279617, 179.7227431, 180.932596 ,\n",
       "       183.1612325, 168.2325864, 188.6029191, 193.726609 , 201.2614644,\n",
       "       149.2404065, 166.7768379, 216.5331913, 201.9579717, 207.1995594,\n",
       "       156.1813399, 209.4753881, 175.5643397, 169.936601 , 206.5229741,\n",
       "       217.8372448, 189.8166449, 112.9029394, 191.3637747, 192.1997882,\n",
       "       209.5562827, 153.6068331, 182.8879477, 201.0719181, 155.3447978,\n",
       "       201.3157707, 168.1685042, 239.4643429, 157.0168086, 147.6602601,\n",
       "       179.1320246, 157.0035437, 188.8840968, 134.8228267, 174.7124319,\n",
       "       161.5786407, 199.2678611, 189.2039245, 219.2966012, 162.3104725,\n",
       "       167.8287603, 175.366252 , 197.628079 , 186.6770884, 232.2326469,\n",
       "       171.9190355, 195.1899302, 203.2208674, 195.2619903, 210.1443121,\n",
       "       148.4721859, 178.5511913, 154.3426389, 202.6248928, 185.6465964,\n",
       "       204.179761 , 195.0138368, 195.1158961, 177.7664258, 196.726282 ,\n",
       "       202.039446 , 204.6271564, 177.2569991, 163.1420518, 219.7866042,\n",
       "       196.2144145, 172.3159674, 185.97165  , 185.4398405, 183.4046858,\n",
       "       186.7624875, 170.810301 , 187.9230525, 173.9578558, 168.64081  ,\n",
       "       202.3082973, 152.9494884, 185.0423241, 189.7102099, 175.0406653,\n",
       "       161.1934326, 199.039289 , 184.7233308, 177.3477798, 191.5471767,\n",
       "       255.8633265, 211.7374418, 212.8146642, 215.1557625, 194.0739746,\n",
       "       192.4386869, 185.2469766, 194.6871008, 192.3439766, 174.4985557,\n",
       "       208.4748659, 174.0582354, 184.1305417, 189.3688237, 171.224027 ,\n",
       "       178.2166779, 164.6498139, 212.7287049, 164.2954408, 193.4417441,\n",
       "       166.1296141, 170.3722156, 188.4537597, 191.0334196, 192.7324047,\n",
       "       166.6317495, 194.1995089, 220.6633873, 179.8639023, 205.6996211,\n",
       "       184.598428 , 193.4351185, 185.71691  , 186.9139379, 211.5427845,\n",
       "       195.8926709, 166.2634667, 190.0024052, 185.7550604, 221.3292277,\n",
       "       209.6980393, 214.3432907, 206.897644 , 197.4918021, 172.9379579,\n",
       "       151.1313144, 183.8520382, 189.9119646, 180.683887 , 180.468682 ,\n",
       "       230.6787782, 197.727299 , 187.0986004, 169.7402721, 187.5816273,\n",
       "       154.9631741, 216.3411301, 201.8626584, 200.0101569, 186.4254196,\n",
       "       221.4459021, 206.6727082, 193.5591924, 183.7158148, 198.7388741,\n",
       "       196.5603077, 163.5710421, 224.6038107, 153.889337 , 182.6293478,\n",
       "       191.6996048, 176.6361636, 156.4908907, 188.2230995, 184.4463253,\n",
       "       172.9048014, 199.7783726, 181.8862409, 178.0783604, 184.2198182,\n",
       "       174.654961 , 179.864803 , 210.871799 , 202.1371601, 206.6293992,\n",
       "       202.1529554, 196.4477023, 161.3787732, 181.320106 , 225.014368 ,\n",
       "       200.5626132, 175.844485 , 223.3155102, 216.6242072, 177.2401455,\n",
       "       181.4481349, 184.1486543, 147.3602703, 150.9790513, 192.5588995,\n",
       "       166.6695699, 187.3466372, 200.2479962, 187.9653554, 228.9746467,\n",
       "       178.7869137, 220.9457607, 171.3457459, 186.2584296, 158.3740869,\n",
       "       183.4383373, 193.4762588, 187.1141436, 166.969204 , 189.2822461,\n",
       "       220.8663652, 205.8153584, 200.9419157, 181.0284042, 172.7347648,\n",
       "       176.9667279, 211.7641408, 189.9362491, 172.5249689, 197.1775885,\n",
       "       152.7911301, 178.7191052, 189.4388404, 205.7648919, 182.5898441,\n",
       "       206.0329778, 188.9223032, 209.450911 , 182.802806 , 188.6259112,\n",
       "       191.8245966, 171.6955097, 169.6752603, 231.1301898, 184.9818143,\n",
       "       175.2102975, 164.0144277, 179.3664566, 178.1683941, 194.0945611,\n",
       "       197.1795704, 154.718344 , 201.5277531, 205.1836213, 164.0864114,\n",
       "       192.5333401, 152.3493799, 188.7924569, 182.7954943, 173.9635774,\n",
       "       193.7697802, 193.788816 , 173.2730115, 215.6200354, 174.4555542,\n",
       "       167.6166926, 200.1206742, 175.5521238, 206.7335309, 188.0649839,\n",
       "       175.8986269, 183.8109732, 211.8160165, 185.5887401, 164.9889856,\n",
       "       200.8772795, 180.4734578, 199.1688303, 168.0140297, 168.6186759,\n",
       "       179.4090919, 194.7247027, 174.2150014, 207.2983314, 193.8237781,\n",
       "       185.5565551, 171.3291085, 168.6272639, 171.9836776, 181.9367014,\n",
       "       198.9265131, 157.4131471, 156.7892932, 168.8635485, 174.1665871,\n",
       "       212.058247 , 227.4371382, 217.2198008, 203.0231161, 198.7285226,\n",
       "       180.4822588, 202.1767836, 185.7873037, 172.8471849, 162.5060369,\n",
       "       192.7085029, 174.9439778, 188.0533331, 198.6850217, 172.5013209,\n",
       "       177.9523822, 209.6777854, 175.9834911, 220.3371555, 165.592195 ,\n",
       "       199.1441775, 211.490801 , 158.8772736, 177.3635878, 192.0916777,\n",
       "       173.5957961, 194.4889423, 193.7563258, 196.6392662, 198.0665081,\n",
       "       222.2974921, 191.0161622, 168.1748644, 181.7249315, 189.532927 ,\n",
       "       175.2195188, 205.234403 , 192.4088967, 199.4943358, 161.4222109,\n",
       "       204.1811869, 180.2965199, 195.322675 , 198.8365146, 197.3824157,\n",
       "       167.3729801, 180.8044498, 166.5836105, 195.1162435, 209.2607585,\n",
       "       208.5784763, 199.2722748, 216.4022645, 217.4909577, 156.8699517,\n",
       "       168.7447552, 135.6558759, 184.1471888, 187.3083703, 196.5274669,\n",
       "       156.9680739, 175.0176496, 195.2413161, 177.2491464, 173.0412559,\n",
       "       166.2769877, 167.0442331, 200.1203609, 222.6671779, 178.5354901,\n",
       "       165.0713967, 174.2397082, 186.9023127, 135.5442014, 209.5736669,\n",
       "       183.2152093, 217.2382251, 151.3505719, 201.8794293, 157.4379016,\n",
       "       178.8513483, 190.3614969, 208.9226827, 194.009473 , 188.6862465,\n",
       "       179.2521557, 199.0066131, 188.0899421, 192.4971609, 196.5058136,\n",
       "       178.3828125, 171.8769664, 181.3212975, 198.843696 , 195.4085511,\n",
       "       167.1760451, 190.1851469, 165.9974342, 174.5713344, 153.8813772,\n",
       "       192.9148094, 199.8098815, 205.1930618, 184.0559588, 173.5200527,\n",
       "       167.1154588, 194.2007119, 172.8398091, 209.0708634, 140.1517157,\n",
       "       184.4618115, 194.6814346, 192.3289666, 151.6431035, 176.1868417,\n",
       "       184.9419493, 186.2839251, 191.544634 , 171.9211499, 167.3277028,\n",
       "       205.7078774, 167.784391 , 162.0066518, 191.9207273, 203.2583751,\n",
       "       167.4441401, 194.2642644, 199.7415595, 193.3923092, 200.7544876,\n",
       "       205.3475962, 187.5710575, 218.7557554, 197.9253539, 176.074223 ,\n",
       "       198.0424839, 164.2156392, 176.0902893, 193.9817476, 177.6034457,\n",
       "       174.6121001, 174.3951478, 159.3191151, 198.6586733, 204.5774363,\n",
       "       175.4626618, 179.0063335, 175.2039346, 183.681029 , 206.6004422,\n",
       "       187.3633658, 185.4227779, 196.6996713, 158.2074096, 176.8154762,\n",
       "       168.1533262, 203.7834348, 189.4492405, 198.0235635, 162.6243273,\n",
       "       171.7319275, 192.7598755, 185.212105 , 182.3697168, 192.7379267,\n",
       "       213.7169568, 159.3903237, 155.8995413, 149.5671682, 207.3948305,\n",
       "       181.7096189, 188.9746319, 186.0256649, 199.9816203, 195.8952569,\n",
       "       194.3793658, 177.4732819, 176.7961081, 172.746365 , 176.830677 ,\n",
       "       174.7435096, 189.80977  , 205.1617483, 208.8488465, 198.0267851,\n",
       "       216.0647453, 187.9232913, 204.3431869, 212.1572757, 210.6878113,\n",
       "       175.9294404, 163.1080171, 159.936436 , 203.3503393, 208.436509 ,\n",
       "       163.8450013, 167.9127926, 166.4413849, 154.7416927, 210.4636875,\n",
       "       193.3671981, 161.7450708, 210.3364247, 197.8870628, 181.3729706,\n",
       "       152.7566899, 158.3687632, 194.6597698, 205.5496716, 174.33661  ,\n",
       "       188.8392852, 208.8391625, 163.7837028, 211.7133851, 192.9692761,\n",
       "       192.3687772, 168.3000293, 206.4997442, 183.9368603, 185.3776732,\n",
       "       190.0880629, 228.7073009, 179.3868167, 191.8337092, 208.8097753,\n",
       "       149.9377126, 169.3758208, 184.2525441, 152.8529747, 206.0172853,\n",
       "       167.1915272, 190.8490701, 211.1702891, 165.7171122, 246.2323213,\n",
       "       200.2028285, 165.3682765, 196.419012 , 189.6259141, 189.2492063,\n",
       "       203.6275837, 158.0286206, 169.0990384, 137.3241783, 203.3170123,\n",
       "       162.9551733, 199.3828807, 206.9802182, 208.1623839, 166.5035316,\n",
       "       207.7765473, 180.8711377, 176.4135007, 211.1662677, 191.3172693,\n",
       "       201.6206667, 162.5416914, 192.6067167, 178.8862048, 195.592886 ,\n",
       "       184.6895225, 159.0765877, 165.3138068, 153.9472037, 195.3649152,\n",
       "       175.2139224, 184.5193912, 192.100036 , 152.5546197, 219.0517283,\n",
       "       173.4301696, 123.528143 , 211.3227764, 225.5123865, 205.3539273,\n",
       "       206.396597 , 197.3886665, 192.9420675, 191.5936244, 199.9473831,\n",
       "       152.8204681, 180.3509244, 176.1934298, 208.5361952, 175.9115893,\n",
       "       206.1634325, 164.9077618, 169.0554908, 201.6114938, 140.8041017,\n",
       "       212.2301447, 192.1248473, 196.8353004, 200.7968545, 185.2796229,\n",
       "       198.7077623, 162.9410412, 173.3847193, 196.1484498, 183.2665331,\n",
       "       178.8188277, 191.4456543, 194.8675429, 209.1775806, 198.2720936,\n",
       "       170.8467603, 176.6653529, 196.9495064, 189.1340124, 180.7937105,\n",
       "       148.7874713, 183.4055261, 208.7557182, 170.0538326, 194.7523537,\n",
       "       195.9714769, 178.5023396, 193.2792655, 182.2596137, 238.5694509,\n",
       "       212.804259 , 223.4132243, 217.3352533, 159.376926 , 201.993728 ,\n",
       "       212.2544283, 196.7639075, 174.0463505, 204.103817 , 206.4144118,\n",
       "       174.3218287, 206.9429818, 207.5756136, 202.2790555, 178.588954 ,\n",
       "       194.1804446, 175.9579827, 173.2722178, 183.5773805, 220.2076602,\n",
       "       173.5851498, 167.2975303, 189.5959602, 220.770232 , 170.2501787,\n",
       "       209.228854 , 187.4720235, 177.1133457, 194.2108233, 195.714693 ,\n",
       "       200.6062376, 174.5848799, 159.3786296, 186.3699527, 151.9966615,\n",
       "       191.0676196, 186.1190374, 194.5328192, 208.2945887, 198.7721907,\n",
       "       180.77978  , 202.9705011, 187.5508307, 189.7802755, 211.5794961,\n",
       "       205.5218858, 185.9166419, 201.8494751, 240.9422666, 194.3022593,\n",
       "       209.3731259, 240.6381035, 172.4670879, 235.0354188, 176.6005297,\n",
       "       167.433533 , 222.9259167, 180.506932 , 187.8432533, 176.7463054,\n",
       "       211.7664268, 199.994622 , 177.7860776, 269.9896985, 155.7638138,\n",
       "       197.7879404, 184.2074156, 171.6209666, 182.6734054, 209.78398  ,\n",
       "       177.909685 , 205.6360496, 174.3557521, 195.3564313, 192.0295666,\n",
       "       182.6217298, 168.0352354, 167.2849042, 179.6078701, 201.3036955,\n",
       "       181.9962868, 169.5568208, 165.2295227, 216.7316335,  65.78     ,\n",
       "       140.0099786, 187.3681933, 151.0138427, 187.7453519, 181.7318342,\n",
       "       187.4036005, 216.1200947, 213.3348909, 216.9465466, 189.7170543,\n",
       "       187.0848888, 195.9590447, 174.9311432, 224.630424 , 200.0600035,\n",
       "       187.40143  , 208.8660338, 175.222848 , 176.2496593, 189.8933425,\n",
       "       169.0727355, 193.9551074, 200.3308195, 207.0181045, 180.2983567,\n",
       "       210.6638278, 192.570363 , 172.5086574, 209.2814544, 188.2006794,\n",
       "       173.2706572, 173.8881027, 143.3475655, 162.7298484, 197.052357 ,\n",
       "       183.8309641, 178.8826337, 205.35946  , 187.6354638, 181.9053186,\n",
       "       177.7424282, 201.1221901, 178.3718337, 158.0432301, 181.8515844,\n",
       "       188.8441724, 149.4972517, 207.0866751, 222.2467954, 202.9068593,\n",
       "       154.2806907, 212.8456118, 185.7787464, 183.3126553, 202.7466375,\n",
       "       220.7572561, 193.9115247, 163.7471546, 221.1594661, 207.8359446,\n",
       "       200.8422469, 188.7110357, 203.5603338, 170.4779465, 164.4870988,\n",
       "       215.0438889, 171.9803313, 184.0399805, 191.0077617, 209.759114 ,\n",
       "       185.9160215, 198.1190658, 188.3757463, 171.4285919, 178.797509 ,\n",
       "       145.9135449, 173.8962369, 150.6709379, 169.9651516, 186.5955147,\n",
       "       168.0778994, 206.8281894, 178.0573356, 217.2696052, 201.438831 ,\n",
       "       160.1474361, 205.8912338, 200.3428137, 186.1774738, 203.8954577,\n",
       "       229.514503 , 154.8411421, 171.5619069, 203.1615983, 191.8880429,\n",
       "       160.1885313])"
      ]
     },
     "execution_count": 20,
     "metadata": {},
     "output_type": "execute_result"
    }
   ],
   "source": [
    "y_test"
   ]
  },
  {
   "cell_type": "code",
   "execution_count": 21,
   "id": "bb2020e0",
   "metadata": {},
   "outputs": [],
   "source": [
    "df1 = pd.DataFrame()"
   ]
  },
  {
   "cell_type": "code",
   "execution_count": 22,
   "id": "dcfb7bdc",
   "metadata": {},
   "outputs": [],
   "source": [
    "df1['Actualvalue'] = y_test\n",
    "df1['Predictvalue']= y_predict\n",
    "df1['Error'] =df1['Predictvalue'] -  df1['Actualvalue']"
   ]
  },
  {
   "cell_type": "code",
   "execution_count": 23,
   "id": "c40b1c77",
   "metadata": {},
   "outputs": [
    {
     "data": {
      "text/html": [
       "<div>\n",
       "<style scoped>\n",
       "    .dataframe tbody tr th:only-of-type {\n",
       "        vertical-align: middle;\n",
       "    }\n",
       "\n",
       "    .dataframe tbody tr th {\n",
       "        vertical-align: top;\n",
       "    }\n",
       "\n",
       "    .dataframe thead th {\n",
       "        text-align: right;\n",
       "    }\n",
       "</style>\n",
       "<table border=\"1\" class=\"dataframe\">\n",
       "  <thead>\n",
       "    <tr style=\"text-align: right;\">\n",
       "      <th></th>\n",
       "      <th>Actualvalue</th>\n",
       "      <th>Predictvalue</th>\n",
       "      <th>Error</th>\n",
       "    </tr>\n",
       "  </thead>\n",
       "  <tbody>\n",
       "    <tr>\n",
       "      <th>0</th>\n",
       "      <td>183.381298</td>\n",
       "      <td>174.638801</td>\n",
       "      <td>-8.742498</td>\n",
       "    </tr>\n",
       "    <tr>\n",
       "      <th>1</th>\n",
       "      <td>204.439540</td>\n",
       "      <td>197.054982</td>\n",
       "      <td>-7.384558</td>\n",
       "    </tr>\n",
       "    <tr>\n",
       "      <th>2</th>\n",
       "      <td>185.533758</td>\n",
       "      <td>180.945498</td>\n",
       "      <td>-4.588260</td>\n",
       "    </tr>\n",
       "    <tr>\n",
       "      <th>3</th>\n",
       "      <td>179.855690</td>\n",
       "      <td>167.104481</td>\n",
       "      <td>-12.751208</td>\n",
       "    </tr>\n",
       "    <tr>\n",
       "      <th>4</th>\n",
       "      <td>189.828313</td>\n",
       "      <td>191.029342</td>\n",
       "      <td>1.201030</td>\n",
       "    </tr>\n",
       "    <tr>\n",
       "      <th>...</th>\n",
       "      <td>...</td>\n",
       "      <td>...</td>\n",
       "      <td>...</td>\n",
       "    </tr>\n",
       "    <tr>\n",
       "      <th>871</th>\n",
       "      <td>154.841142</td>\n",
       "      <td>162.779279</td>\n",
       "      <td>7.938137</td>\n",
       "    </tr>\n",
       "    <tr>\n",
       "      <th>872</th>\n",
       "      <td>171.561907</td>\n",
       "      <td>169.662605</td>\n",
       "      <td>-1.899302</td>\n",
       "    </tr>\n",
       "    <tr>\n",
       "      <th>873</th>\n",
       "      <td>203.161598</td>\n",
       "      <td>180.752133</td>\n",
       "      <td>-22.409465</td>\n",
       "    </tr>\n",
       "    <tr>\n",
       "      <th>874</th>\n",
       "      <td>191.888043</td>\n",
       "      <td>197.726636</td>\n",
       "      <td>5.838593</td>\n",
       "    </tr>\n",
       "    <tr>\n",
       "      <th>875</th>\n",
       "      <td>160.188531</td>\n",
       "      <td>160.630258</td>\n",
       "      <td>0.441727</td>\n",
       "    </tr>\n",
       "  </tbody>\n",
       "</table>\n",
       "<p>876 rows × 3 columns</p>\n",
       "</div>"
      ],
      "text/plain": [
       "     Actualvalue  Predictvalue      Error\n",
       "0     183.381298    174.638801  -8.742498\n",
       "1     204.439540    197.054982  -7.384558\n",
       "2     185.533758    180.945498  -4.588260\n",
       "3     179.855690    167.104481 -12.751208\n",
       "4     189.828313    191.029342   1.201030\n",
       "..           ...           ...        ...\n",
       "871   154.841142    162.779279   7.938137\n",
       "872   171.561907    169.662605  -1.899302\n",
       "873   203.161598    180.752133 -22.409465\n",
       "874   191.888043    197.726636   5.838593\n",
       "875   160.188531    160.630258   0.441727\n",
       "\n",
       "[876 rows x 3 columns]"
      ]
     },
     "execution_count": 23,
     "metadata": {},
     "output_type": "execute_result"
    }
   ],
   "source": [
    "df1\n"
   ]
  },
  {
   "cell_type": "code",
   "execution_count": 24,
   "id": "eebf490b",
   "metadata": {},
   "outputs": [
    {
     "data": {
      "text/plain": [
       "array([5.97020036])"
      ]
     },
     "execution_count": 24,
     "metadata": {},
     "output_type": "execute_result"
    }
   ],
   "source": [
    "#y =mx+c\n",
    "# when x = 0 then we will get this coefficient\n",
    "lm.coef_"
   ]
  },
  {
   "cell_type": "code",
   "execution_count": 25,
   "id": "fe162f1a",
   "metadata": {},
   "outputs": [
    {
     "data": {
      "text/plain": [
       "-225.46902035551324"
      ]
     },
     "execution_count": 25,
     "metadata": {},
     "output_type": "execute_result"
    }
   ],
   "source": [
    "lm.intercept_"
   ]
  },
  {
   "cell_type": "code",
   "execution_count": 26,
   "id": "5db37390",
   "metadata": {},
   "outputs": [
    {
     "name": "stdout",
     "output_type": "stream",
     "text": [
      "R2 score of testing:  0.7267833585724957\n"
     ]
    }
   ],
   "source": [
    "#They provide a measure of how well the predicted values of a regression model\n",
    "# match the actual observed values.\n",
    "\n",
    "from sklearn.metrics import r2_score, mean_absolute_error, mean_squared_error\n",
    "print(\"R2 score of testing: \", r2_score(y_test, y_predict))"
   ]
  },
  {
   "cell_type": "code",
   "execution_count": 27,
   "id": "69c56a29",
   "metadata": {},
   "outputs": [
    {
     "name": "stdout",
     "output_type": "stream",
     "text": [
      "mean_absolute_error:  7.993130613837164\n"
     ]
    }
   ],
   "source": [
    "print(\"mean_absolute_error: \", mean_absolute_error(y_test, y_predict))"
   ]
  },
  {
   "cell_type": "code",
   "execution_count": 28,
   "id": "c87872f8",
   "metadata": {},
   "outputs": [
    {
     "name": "stdout",
     "output_type": "stream",
     "text": [
      "mean_squared_error:  109.41851385391352\n"
     ]
    }
   ],
   "source": [
    "print(\"mean_squared_error: \", mean_squared_error(y_test, y_predict))"
   ]
  },
  {
   "cell_type": "code",
   "execution_count": 29,
   "id": "222c7781",
   "metadata": {},
   "outputs": [
    {
     "data": {
      "text/plain": [
       "[]"
      ]
     },
     "execution_count": 29,
     "metadata": {},
     "output_type": "execute_result"
    },
    {
     "data": {
      "image/png": "[encoded data removed]",
      "text/plain": [
       "<Figure size 432x288 with 1 Axes>"
      ]
     },
     "metadata": {
      "needs_background": "light"
     },
     "output_type": "display_data"
    }
   ],
   "source": [
    "plt.scatter(x_test, y_test, color = 'r')\n",
    "plt.plot(x_test,lm.predict(x_test), color= 'b')\n",
    "plt.title(\"Height Vs Weight\")\n",
    "plt.xlabel(\"Height\")\n",
    "plt.ylabel(\"Weight\")\n",
    "plt.plot()"
   ]
  },
  {
   "cell_type": "code",
   "execution_count": 30,
   "id": "fb859f5b",
   "metadata": {},
   "outputs": [
    {
     "data": {
      "text/plain": [
       "[]"
      ]
     },
     "execution_count": 30,
     "metadata": {},
     "output_type": "execute_result"
    },
    {
     "data": {
      "image/png": "[encoded data removed]",
      "text/plain": [
       "<Figure size 432x288 with 1 Axes>"
      ]
     },
     "metadata": {
      "needs_background": "light"
     },
     "output_type": "display_data"
    }
   ],
   "source": [
    "plt.scatter(x_train, y_train, color = 'r')\n",
    "plt.plot(x_train,lm.predict(x_train), color= 'b')\n",
    "plt.title(\"Height Vs Weight\")\n",
    "plt.xlabel(\"Height\")\n",
    "plt.ylabel(\"Weight\")\n",
    "plt.plot()"
   ]
  },
  {
   "cell_type": "code",
   "execution_count": 31,
   "id": "db2fa94e",
   "metadata": {},
   "outputs": [],
   "source": [
    "#Adjust r^2\n",
    "# r2 = 1-(1-R2)(N-1)/(N-p-1)\n",
    "# p = number of predictor\n",
    "aj_r2 = 1-(1-0.9647278344670828)*(30-1)/(30-1-1)\n",
    "#just one predictor p is salary\n"
   ]
  },
  {
   "cell_type": "code",
   "execution_count": 32,
   "id": "1e3e8470",
   "metadata": {},
   "outputs": [
    {
     "data": {
      "text/plain": [
       "0.9634681142694785"
      ]
     },
     "execution_count": 32,
     "metadata": {},
     "output_type": "execute_result"
    }
   ],
   "source": [
    "aj_r2"
   ]
  },
  {
   "cell_type": "code",
   "execution_count": 33,
   "id": "47e6ca28",
   "metadata": {},
   "outputs": [],
   "source": [
    "import statsmodels.api as ml\n",
    "from statsmodels import tools"
   ]
  },
  {
   "cell_type": "code",
   "execution_count": 34,
   "id": "94942dcc",
   "metadata": {},
   "outputs": [],
   "source": [
    "lr = ml.OLS(y,x).fit()"
   ]
  },
  {
   "cell_type": "code",
   "execution_count": 35,
   "id": "e8147276",
   "metadata": {},
   "outputs": [
    {
     "data": {
      "text/html": [
       "<table class=\"simpletable\">\n",
       "<caption>OLS Regression Results</caption>\n",
       "<tr>\n",
       "  <th>Dep. Variable:</th>            <td>y</td>        <th>  R-squared (uncentered):</th>      <td>   0.995</td> \n",
       "</tr>\n",
       "<tr>\n",
       "  <th>Model:</th>                   <td>OLS</td>       <th>  Adj. R-squared (uncentered):</th> <td>   0.995</td> \n",
       "</tr>\n",
       "<tr>\n",
       "  <th>Method:</th>             <td>Least Squares</td>  <th>  F-statistic:       </th>          <td>6.398e+05</td>\n",
       "</tr>\n",
       "<tr>\n",
       "  <th>Date:</th>             <td>Tue, 30 May 2023</td> <th>  Prob (F-statistic):</th>           <td>  0.00</td>  \n",
       "</tr>\n",
       "<tr>\n",
       "  <th>Time:</th>                 <td>21:02:23</td>     <th>  Log-Likelihood:    </th>          <td> -14173.</td> \n",
       "</tr>\n",
       "<tr>\n",
       "  <th>No. Observations:</th>      <td>  3501</td>      <th>  AIC:               </th>          <td>2.835e+04</td>\n",
       "</tr>\n",
       "<tr>\n",
       "  <th>Df Residuals:</th>          <td>  3500</td>      <th>  BIC:               </th>          <td>2.835e+04</td>\n",
       "</tr>\n",
       "<tr>\n",
       "  <th>Df Model:</th>              <td>     1</td>      <th>                     </th>              <td> </td>    \n",
       "</tr>\n",
       "<tr>\n",
       "  <th>Covariance Type:</th>      <td>nonrobust</td>    <th>                     </th>              <td> </td>    \n",
       "</tr>\n",
       "</table>\n",
       "<table class=\"simpletable\">\n",
       "<tr>\n",
       "   <td></td>     <th>coef</th>     <th>std err</th>      <th>t</th>      <th>P>|t|</th>  <th>[0.025</th>    <th>0.975]</th>  \n",
       "</tr>\n",
       "<tr>\n",
       "  <th>x1</th> <td>    2.7132</td> <td>    0.003</td> <td>  799.905</td> <td> 0.000</td> <td>    2.707</td> <td>    2.720</td>\n",
       "</tr>\n",
       "</table>\n",
       "<table class=\"simpletable\">\n",
       "<tr>\n",
       "  <th>Omnibus:</th>       <td>209.746</td> <th>  Durbin-Watson:     </th> <td>   1.931</td> \n",
       "</tr>\n",
       "<tr>\n",
       "  <th>Prob(Omnibus):</th> <td> 0.000</td>  <th>  Jarque-Bera (JB):  </th> <td> 678.118</td> \n",
       "</tr>\n",
       "<tr>\n",
       "  <th>Skew:</th>          <td>-0.250</td>  <th>  Prob(JB):          </th> <td>5.61e-148</td>\n",
       "</tr>\n",
       "<tr>\n",
       "  <th>Kurtosis:</th>      <td> 5.097</td>  <th>  Cond. No.          </th> <td>    1.00</td> \n",
       "</tr>\n",
       "</table><br/><br/>Notes:<br/>[1] R² is computed without centering (uncentered) since the model does not contain a constant.<br/>[2] Standard Errors assume that the covariance matrix of the errors is correctly specified."
      ],
      "text/plain": [
       "<class 'statsmodels.iolib.summary.Summary'>\n",
       "\"\"\"\n",
       "                                 OLS Regression Results                                \n",
       "=======================================================================================\n",
       "Dep. Variable:                      y   R-squared (uncentered):                   0.995\n",
       "Model:                            OLS   Adj. R-squared (uncentered):              0.995\n",
       "Method:                 Least Squares   F-statistic:                          6.398e+05\n",
       "Date:                Tue, 30 May 2023   Prob (F-statistic):                        0.00\n",
       "Time:                        21:02:23   Log-Likelihood:                         -14173.\n",
       "No. Observations:                3501   AIC:                                  2.835e+04\n",
       "Df Residuals:                    3500   BIC:                                  2.835e+04\n",
       "Df Model:                           1                                                  \n",
       "Covariance Type:            nonrobust                                                  \n",
       "==============================================================================\n",
       "                 coef    std err          t      P>|t|      [0.025      0.975]\n",
       "------------------------------------------------------------------------------\n",
       "x1             2.7132      0.003    799.905      0.000       2.707       2.720\n",
       "==============================================================================\n",
       "Omnibus:                      209.746   Durbin-Watson:                   1.931\n",
       "Prob(Omnibus):                  0.000   Jarque-Bera (JB):              678.118\n",
       "Skew:                          -0.250   Prob(JB):                    5.61e-148\n",
       "Kurtosis:                       5.097   Cond. No.                         1.00\n",
       "==============================================================================\n",
       "\n",
       "Notes:\n",
       "[1] R² is computed without centering (uncentered) since the model does not contain a constant.\n",
       "[2] Standard Errors assume that the covariance matrix of the errors is correctly specified.\n",
       "\"\"\""
      ]
     },
     "execution_count": 35,
     "metadata": {},
     "output_type": "execute_result"
    }
   ],
   "source": [
    "lr.summary()"
   ]
  },
  {
   "cell_type": "code",
   "execution_count": null,
   "id": "8cf66917",
   "metadata": {},
   "outputs": [],
   "source": []
  }
 ],
 "metadata": {
  "kernelspec": {
   "display_name": "Python 3 (ipykernel)",
   "language": "python",
   "name": "python3"
  },
  "language_info": {
   "codemirror_mode": {
    "name": "ipython",
    "version": 3
   },
   "file_extension": ".py",
   "mimetype": "text/x-python",
   "name": "python",
   "nbconvert_exporter": "python",
   "pygments_lexer": "ipython3",
   "version": "3.9.12"
  }
 },
 "nbformat": 4,
 "nbformat_minor": 5
}
